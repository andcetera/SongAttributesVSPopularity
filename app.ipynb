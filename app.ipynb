{
 "cells": [
  {
   "cell_type": "code",
   "execution_count": 1,
   "metadata": {},
   "outputs": [],
   "source": [
    "#################################################\n",
    "# Dependencies\n",
    "#################################################\n",
    "from flask import Flask, jsonify, render_template\n",
    "import sqlalchemy\n",
    "from sqlalchemy.ext.automap import automap_base\n",
    "from sqlalchemy.orm import Session\n",
    "from sqlalchemy import create_engine, func"
   ]
  },
  {
   "cell_type": "code",
   "execution_count": 2,
   "metadata": {},
   "outputs": [],
   "source": [
    "#################################################\n",
    "# Flask Setup\n",
    "#################################################\n",
    "app = Flask(__name__)\n"
   ]
  },
  {
   "cell_type": "code",
   "execution_count": 4,
   "metadata": {},
   "outputs": [
    {
     "name": "stdout",
     "output_type": "stream",
     "text": [
      "['coolness', 'country_attributes', 'fiftygenre', 'top_50_by_country']\n"
     ]
    },
    {
     "name": "stderr",
     "output_type": "stream",
     "text": [
      "/var/folders/n3/73dnm89n6_sch505st1wgqc80000gn/T/ipykernel_4506/3717475457.py:11: SAWarning: This declarative base already contains a class with the same class name and module name as sqlalchemy.ext.automap.coolness, and will be replaced in the string-lookup table.\n",
      "  Base.prepare(engine, reflect=True)\n",
      "/var/folders/n3/73dnm89n6_sch505st1wgqc80000gn/T/ipykernel_4506/3717475457.py:11: SAWarning: This declarative base already contains a class with the same class name and module name as sqlalchemy.ext.automap.country_attributes, and will be replaced in the string-lookup table.\n",
      "  Base.prepare(engine, reflect=True)\n",
      "/var/folders/n3/73dnm89n6_sch505st1wgqc80000gn/T/ipykernel_4506/3717475457.py:11: SAWarning: This declarative base already contains a class with the same class name and module name as sqlalchemy.ext.automap.fiftygenre, and will be replaced in the string-lookup table.\n",
      "  Base.prepare(engine, reflect=True)\n",
      "/var/folders/n3/73dnm89n6_sch505st1wgqc80000gn/T/ipykernel_4506/3717475457.py:11: SAWarning: This declarative base already contains a class with the same class name and module name as sqlalchemy.ext.automap.top_50_by_country, and will be replaced in the string-lookup table.\n",
      "  Base.prepare(engine, reflect=True)\n"
     ]
    }
   ],
   "source": [
    "#################################################\n",
    "# Database Setup\n",
    "#################################################\n",
    "engine = create_engine(\"sqlite:///songs_complete_db.sqlite\")\n",
    "\n",
    "# reflect an existing database into a new model\n",
    "Base = automap_base()\n",
    "\n",
    "# reflect the tables\n",
    "Base.prepare(autoload_with=engine)\n",
    "Base.prepare(engine, reflect=True)\n",
    "print(Base.classes.keys())\n",
    "\n"
   ]
  },
  {
   "cell_type": "code",
   "execution_count": 5,
   "metadata": {},
   "outputs": [],
   "source": [
    "# Create our session (link) from Python to the DB\n",
    "session = Session(engine)\n",
    "\n",
    "#Save reference to the tables\n",
    "coolness = Base.classes.coolness\n",
    "country_attributes = Base.classes.country_attributes\n",
    "fiftygenre = Base.classes.fiftygenre\n",
    "top_50_by_country = Base.classes.top_50_by_country\n"
   ]
  },
  {
   "cell_type": "code",
   "execution_count": 5,
   "metadata": {},
   "outputs": [
    {
     "data": {
      "text/plain": [
       "{'_sa_instance_state': <sqlalchemy.orm.state.InstanceState at 0x7fc9678a8310>,\n",
       " 'weeks_on_chart': 19,\n",
       " 'streams': 4026918.0,\n",
       " 'rank_pts': 0.955,\n",
       " 'Popularity_Score': 0.6736666666666666,\n",
       " 'track_name': 'Hati-Hati di Jalan',\n",
       " 'artist_names': 'Tulus',\n",
       " 'rank': 9.0,\n",
       " 'WOC_ratio': 0.066,\n",
       " 'streams_ratio': 1.0}"
      ]
     },
     "execution_count": 5,
     "metadata": {},
     "output_type": "execute_result"
    }
   ],
   "source": [
    "#coolness first for reference\n",
    "first_row = session.query(coolness).first()\n",
    "first_row.__dict__\n"
   ]
  },
  {
   "cell_type": "code",
   "execution_count": 8,
   "metadata": {},
   "outputs": [
    {
     "data": {
      "text/plain": [
       "{'_sa_instance_state': <sqlalchemy.orm.state.InstanceState at 0x7fcf46a0d490>,\n",
       " 'country': 'Argentina',\n",
       " 'energy': 0.6751008213552362,\n",
       " 'speechiness': 0.13178737166324433,\n",
       " 'valence': 0.6465626488706365,\n",
       " 'duration': 206.6618069815195,\n",
       " 'loudness': -5.216302464065708,\n",
       " 'danceability': 0.7440131416837782,\n",
       " 'acousticness': 0.22990988090349077,\n",
       " 'tempo': 120.36076776180698}"
      ]
     },
     "execution_count": 8,
     "metadata": {},
     "output_type": "execute_result"
    }
   ],
   "source": [
    "#country_attributes first for reference\n",
    "first_row = session.query(country_attributes).first()\n",
    "first_row.__dict__\n"
   ]
  },
  {
   "cell_type": "code",
   "execution_count": 9,
   "metadata": {},
   "outputs": [
    {
     "data": {
      "text/plain": [
       "{'_sa_instance_state': <sqlalchemy.orm.state.InstanceState at 0x7fcf469d6190>,\n",
       " 'artist_count': 107610,\n",
       " 'artist_genre': 'pop'}"
      ]
     },
     "execution_count": 9,
     "metadata": {},
     "output_type": "execute_result"
    }
   ],
   "source": [
    "#fiftygenre first for reference\n",
    "first_row = session.query(fiftygenre).first()\n",
    "first_row.__dict__\n"
   ]
  },
  {
   "cell_type": "code",
   "execution_count": 6,
   "metadata": {},
   "outputs": [
    {
     "data": {
      "text/plain": [
       "{'_sa_instance_state': <sqlalchemy.orm.state.InstanceState at 0x7f8de88a72e0>,\n",
       " 'WOC_ratio': 0.014,\n",
       " 'artist_names': 'Bizarrap, Quevedo',\n",
       " 'streams_ratio': 1.0,\n",
       " 'rank': 27.0,\n",
       " 'danceability': 0.621,\n",
       " 'energy': 0.782,\n",
       " 'speechiness': 0.044,\n",
       " 'valence': 0.55,\n",
       " 'duration': 199.0,\n",
       " 'Popularity_Score': 0.6263333333333333,\n",
       " 'rank_pts': 0.865,\n",
       " 'track_name': 'Quevedo: Bzrp Music Sessions, Vol. 52',\n",
       " 'streams': 3357665.5,\n",
       " 'weeks_on_chart': 2,\n",
       " 'loudness': -5.548,\n",
       " 'acousticness': 0.012,\n",
       " 'tempo': 128.033,\n",
       " 'country': 'Argentina'}"
      ]
     },
     "execution_count": 6,
     "metadata": {},
     "output_type": "execute_result"
    }
   ],
   "source": [
    "#song_attibutes first for reference\n",
    "first_row = session.query(top_50_by_country).first()\n",
    "first_row.__dict__\n"
   ]
  },
  {
   "cell_type": "code",
   "execution_count": 6,
   "metadata": {},
   "outputs": [],
   "source": [
    "#################################################\n",
    "# Flask Routes\n",
    "#################################################\n",
    "@app.route('/')\n",
    "def home():\n",
    "   return render_template('index.html')\n"
   ]
  },
  {
   "cell_type": "code",
   "execution_count": 15,
   "metadata": {},
   "outputs": [
    {
     "name": "stdout",
     "output_type": "stream",
     "text": [
      "[{'country': 'Argentina', 'value': 0.7511399999999996}, {'country': 'Australia', 'value': 0.6325999999999997}, {'country': 'Austria', 'value': 0.65348}, {'country': 'Belarus', 'value': 0.67446}, {'country': 'Belgium', 'value': 0.68258}, {'country': 'Bolivia', 'value': 0.7518599999999998}, {'country': 'Brazil', 'value': 0.7109000000000001}, {'country': 'Bulgaria', 'value': 0.6715800000000003}, {'country': 'Canada', 'value': 0.6165400000000001}, {'country': 'Chile', 'value': 0.77538}, {'country': 'Colombia', 'value': 0.7584399999999999}, {'country': 'Costa_Rica', 'value': 0.7344800000000002}, {'country': 'Cyprus', 'value': 0.7185600000000001}, {'country': 'Czech_Republic', 'value': 0.6637}, {'country': 'Denmark', 'value': 0.66888}, {'country': 'Dominican_Republic', 'value': 0.7564}, {'country': 'Ecuador', 'value': 0.7635399999999999}, {'country': 'Egypt', 'value': 0.7131199999999999}, {'country': 'El_Salvador', 'value': 0.7574199999999999}, {'country': 'Estonia', 'value': 0.6551799999999999}, {'country': 'Finland', 'value': 0.70612}, {'country': 'France', 'value': 0.7564200000000002}, {'country': 'Germany', 'value': 0.6984200000000003}, {'country': 'Greece', 'value': 0.7479600000000001}, {'country': 'Guatemala', 'value': 0.7364399999999999}, {'country': 'Honduras', 'value': 0.7548999999999997}, {'country': 'Hong_Kong', 'value': 0.5602800000000001}, {'country': 'Hungary', 'value': 0.6879999999999998}, {'country': 'Iceland', 'value': 0.6101399999999999}, {'country': 'Vietnam', 'value': 0.6557599999999999}]\n"
     ]
    }
   ],
   "source": [
    "#@app.route('/test')\n",
    "#def getAttribute():\n",
    "# Create our session (link) from Python to the DB, songs_complete_db.sqlite\n",
    "session = Session(engine)\n",
    "        \n",
    " #use the attribute selected by the user; average the values of that attribute for each country\n",
    "attribute_query = engine.execute('SELECT country, AVG(danceability) \\\n",
    "                                FROM top_50_by_country \\\n",
    "                                GROUP BY country').fetchall()\n",
    "        \n",
    "#attribute_dict = {}\n",
    "#for country, attribute in attribute_query:\n",
    "#        attribute_dict['country'] = country\n",
    "#        attribute_dict['attribute'] = attribute\n",
    "#        #append to dictionary\n",
    "\n",
    "\n",
    "pakg = [{\"country\": r[0], \"value\": r[1]} for r in attribute_query]\n",
    "print(pakg)\n",
    "#print(jsonify(pakg))"
   ]
  },
  {
   "cell_type": "code",
   "execution_count": 27,
   "metadata": {},
   "outputs": [
    {
     "data": {
      "text/plain": [
       "[{'danceability': 0.6467594945040479,\n",
       "  'energy': 0.5531940893832685,\n",
       "  'loudness': -7.848541433554926,\n",
       "  'speechiness': 0.09584869347725926,\n",
       "  'acousticness': 0.3262092080760877,\n",
       "  'valence': 0.4660201540182979,\n",
       "  'tempo': 120.01254117027578,\n",
       "  'duration': 207.08635555848088}]"
      ]
     },
     "execution_count": 27,
     "metadata": {},
     "output_type": "execute_result"
    }
   ],
   "source": [
    " #use the attribute selected by the user; average the values of that attribute for each country\n",
    "country = 'Iceland'\n",
    "\n",
    "keys = ['danceability', 'energy', 'loudness', 'speechiness', 'acousticness', 'valence', 'tempo', 'duration' ]\n",
    "\n",
    "country_query = engine.execute(f\"SELECT danceability, energy, loudness,\\\n",
    "speechiness, acousticness, valence, \\\n",
    "tempo, duration \\\n",
    "FROM country_attributes \\\n",
    "WHERE country='{country}'\").fetchall()\n",
    "\n",
    "#country_query\n",
    "#Result example: [(0.6467594945040479, 0.5531940893832685, -7.848541433554926, 0.09584869347725926, 0.3262092080760877, 0.4660201540182979, 120.01254117027578, 207.08635555848088)]\n",
    "\n",
    "#ZIP KEYS AND COUNTRY_QUERY\n",
    "country_dict = zip(keys, country_query)\n",
    "print(country_dict(result))\n",
    "\n",
    "\n",
    "avg_query = engine.execute(f\"SELECT AVG(danceability), \\\n",
    "AVG(energy), \\\n",
    "AVG(loudness), \\\n",
    "AVG(speechiness), \\\n",
    "AVG(acousticness), \\\n",
    "AVG(valence), \\\n",
    "AVG(tempo), \\\n",
    "AVG(duration) \\\n",
    "FROM country_attributes\").fetchall()\n",
    "\n",
    "#avg_query\n",
    "#Result example: [(0.6793448757328516, 0.6398077829193978, -6.404888131435592, 0.1049760341207325, 0.27439794173374626, 0.5325104695279008, 122.01599088347731, 203.17904368185987)]\n",
    "\n",
    "\n",
    "country_dict = [{'danceability': r[0], 'energy': r[1], 'loudness': r[2], 'speechiness':r[3], 'acousticness': r[4], 'valence':r[5], 'tempo':r[6], 'duration': r[7] } for r in country_query]\n",
    "#country_dict\n",
    "avg_dict = [{'danceability': r[0], 'energy': r[1], 'loudness': r[2], 'speechiness':r[3], 'acousticness': r[4], 'valence':r[5], 'tempo':r[6], 'duration': r[7] } for r in avg_query]\n",
    "#avg_dict\n",
    "\n",
    "keys = ['danceability', 'energy', 'loudness', 'speechiness', 'acousticness', 'valence', 'tempo', 'duration' ]\n",
    "for i in keys: \n",
    "\n",
    "\n",
    "\n",
    "\n",
    "\n",
    "\n",
    "\n",
    "#pakg = [{'attributes'{'danceability': r[0], }}]"
   ]
  },
  {
   "cell_type": "code",
   "execution_count": 58,
   "metadata": {},
   "outputs": [
    {
     "data": {
      "text/plain": [
       "[('danceability', 0.6467594945040479),\n",
       " ('energy', 0.5531940893832685),\n",
       " ('loudness', -7.848541433554926),\n",
       " ('speechiness', 0.09584869347725926),\n",
       " ('acousticness', 0.3262092080760877),\n",
       " ('valence', 0.4660201540182979),\n",
       " ('tempo', 120.01254117027578),\n",
       " ('duration', 207.08635555848088)]"
      ]
     },
     "execution_count": 58,
     "metadata": {},
     "output_type": "execute_result"
    }
   ],
   "source": [
    "#1 ZIP KEYS AND COUNTRY_QUERY\n",
    "country = 'Iceland'\n",
    "\n",
    "keys = ['danceability', 'energy', 'loudness', 'speechiness', 'acousticness', 'valence', 'tempo', 'duration' ]\n",
    "\n",
    "country_query = engine.execute(f\"SELECT danceability, energy, loudness,\\\n",
    "speechiness, acousticness, valence, \\\n",
    "tempo, duration \\\n",
    "FROM country_attributes \\\n",
    "WHERE country='{country}'\").fetchall()\n",
    "\n",
    "#Result example: [(0.6467594945040479, 0.5531940893832685, -7.848541433554926, 0.09584869347725926, 0.3262092080760877, 0.4660201540182979, 120.01254117027578, 207.08635555848088)]\n",
    "\n",
    "country_results = country_query[0]\n",
    "#country_results    \n",
    "\n",
    "country_zip = list(zip(keys, country_results))\n",
    "country_list = country_zip.copy()\n",
    "country_list\n",
    "#country_zip result: [('danceability', 0.6467594945040479), ('energy', 0.5531940893832685), ('loudness', -7.848541433554926), ('speechiness', 0.09584869347725926), ('acousticness', 0.3262092080760877), ('valence', 0.4660201540182979), ('tempo', 120.01254117027578), ('duration', 207.08635555848088)]"
   ]
  },
  {
   "cell_type": "code",
   "execution_count": 57,
   "metadata": {},
   "outputs": [
    {
     "data": {
      "text/plain": [
       "[('danceability', 0.6793448757328516),\n",
       " ('energy', 0.6398077829193978),\n",
       " ('loudness', -6.404888131435592),\n",
       " ('speechiness', 0.1049760341207325),\n",
       " ('acousticness', 0.27439794173374626),\n",
       " ('valence', 0.5325104695279008),\n",
       " ('tempo', 122.01599088347731),\n",
       " ('duration', 203.17904368185987)]"
      ]
     },
     "execution_count": 57,
     "metadata": {},
     "output_type": "execute_result"
    }
   ],
   "source": [
    "#2 ZIP KEYS AND AVG_QUERY\n",
    "avg_query = engine.execute(f\"SELECT AVG(danceability), \\\n",
    "AVG(energy), \\\n",
    "AVG(loudness), \\\n",
    "AVG(speechiness), \\\n",
    "AVG(acousticness), \\\n",
    "AVG(valence), \\\n",
    "AVG(tempo), \\\n",
    "AVG(duration) \\\n",
    "FROM country_attributes\").fetchall()\n",
    "\n",
    "#Result example: [(0.6793448757328516, 0.6398077829193978, -6.404888131435592, 0.1049760341207325, 0.27439794173374626, 0.5325104695279008, 122.01599088347731, 203.17904368185987)]\n",
    "\n",
    "avg_results = avg_query[0]\n",
    "#avg_results\n",
    "\n",
    "avg_zip = list(zip(keys, avg_results))\n",
    "avg_list = avg_zip.copy()\n",
    "avg_list"
   ]
  },
  {
   "cell_type": "code",
   "execution_count": 59,
   "metadata": {},
   "outputs": [
    {
     "data": {
      "text/plain": [
       "[(('danceability', 0.6467594945040479), ('danceability', 0.6793448757328516)),\n",
       " (('energy', 0.5531940893832685), ('energy', 0.6398077829193978)),\n",
       " (('loudness', -7.848541433554926), ('loudness', -6.404888131435592)),\n",
       " (('speechiness', 0.09584869347725926), ('speechiness', 0.1049760341207325)),\n",
       " (('acousticness', 0.3262092080760877), ('acousticness', 0.27439794173374626)),\n",
       " (('valence', 0.4660201540182979), ('valence', 0.5325104695279008)),\n",
       " (('tempo', 120.01254117027578), ('tempo', 122.01599088347731)),\n",
       " (('duration', 207.08635555848088), ('duration', 203.17904368185987))]"
      ]
     },
     "execution_count": 59,
     "metadata": {},
     "output_type": "execute_result"
    }
   ],
   "source": [
    "#3 ZIP country_zip and avg_zip\n",
    "\n",
    "country_avg_zip = list(zip(country_list, avg_list))\n",
    "country_avg_list = country_avg_zip.copy()\n",
    "country_avg_list\n"
   ]
  },
  {
   "cell_type": "code",
   "execution_count": 60,
   "metadata": {},
   "outputs": [
    {
     "data": {
      "text/plain": [
       "[('danceability',\n",
       "  (('danceability', 0.6467594945040479),\n",
       "   ('danceability', 0.6793448757328516))),\n",
       " ('energy', (('energy', 0.5531940893832685), ('energy', 0.6398077829193978))),\n",
       " ('loudness',\n",
       "  (('loudness', -7.848541433554926), ('loudness', -6.404888131435592))),\n",
       " ('speechiness',\n",
       "  (('speechiness', 0.09584869347725926), ('speechiness', 0.1049760341207325))),\n",
       " ('acousticness',\n",
       "  (('acousticness', 0.3262092080760877),\n",
       "   ('acousticness', 0.27439794173374626))),\n",
       " ('valence',\n",
       "  (('valence', 0.4660201540182979), ('valence', 0.5325104695279008))),\n",
       " ('tempo', (('tempo', 120.01254117027578), ('tempo', 122.01599088347731))),\n",
       " ('duration',\n",
       "  (('duration', 207.08635555848088), ('duration', 203.17904368185987)))]"
      ]
     },
     "execution_count": 60,
     "metadata": {},
     "output_type": "execute_result"
    }
   ],
   "source": [
    "#4 ZIP KEYS and country_avg_list\n",
    "attribute_zip = list(zip(keys, country_avg_list))\n",
    "attribute_list = attribute_zip.copy()\n",
    "attribute_list"
   ]
  },
  {
   "cell_type": "code",
   "execution_count": 61,
   "metadata": {},
   "outputs": [
    {
     "data": {
      "text/plain": [
       "{'attributes': [('danceability',\n",
       "   (('danceability', 0.6467594945040479),\n",
       "    ('danceability', 0.6793448757328516))),\n",
       "  ('energy', (('energy', 0.5531940893832685), ('energy', 0.6398077829193978))),\n",
       "  ('loudness',\n",
       "   (('loudness', -7.848541433554926), ('loudness', -6.404888131435592))),\n",
       "  ('speechiness',\n",
       "   (('speechiness', 0.09584869347725926),\n",
       "    ('speechiness', 0.1049760341207325))),\n",
       "  ('acousticness',\n",
       "   (('acousticness', 0.3262092080760877),\n",
       "    ('acousticness', 0.27439794173374626))),\n",
       "  ('valence',\n",
       "   (('valence', 0.4660201540182979), ('valence', 0.5325104695279008))),\n",
       "  ('tempo', (('tempo', 120.01254117027578), ('tempo', 122.01599088347731))),\n",
       "  ('duration',\n",
       "   (('duration', 207.08635555848088), ('duration', 203.17904368185987)))]}"
      ]
     },
     "execution_count": 61,
     "metadata": {},
     "output_type": "execute_result"
    }
   ],
   "source": [
    "attribute_dict = {'attributes' : attribute_list}\n",
    "attribute_dict"
   ]
  },
  {
   "cell_type": "code",
   "execution_count": null,
   "metadata": {},
   "outputs": [],
   "source": [
    "    return object should look like this:\n",
    "{ \"attributes\":\n",
    "\t{\"danceability\": { \"value\": value, \"average\": value }},\n",
    "\t{\"energy\": {\"value\": value, \"average\": value}},\n",
    "\t{\"loudness\": {\"value\": value, \"average\": value}},\n",
    "\t{\"speechiness\": {\"value\": value, \"average\": value}},\n",
    "\t{\"acousticness\": {\"value\": value, \"average\": value}},\n",
    "\t{\"valence\": {\"value\": value, \"average\": value}},\n",
    "\t{\"tempo\": {\"value\": value, \"average\": value}},\n",
    "\t{\"duration\": {\"value\": value, \"average\": value}}"
   ]
  },
  {
   "cell_type": "code",
   "execution_count": null,
   "metadata": {},
   "outputs": [],
   "source": [
    "#Because I'm on a mac, I am setting the port to 8000 to avoid access errors\n",
    "if __name__ == '__main__':\n",
    "    app.run(port=8000, debug=True)"
   ]
  }
 ],
 "metadata": {
  "kernelspec": {
   "display_name": "base",
   "language": "python",
   "name": "python3"
  },
  "language_info": {
   "codemirror_mode": {
    "name": "ipython",
    "version": 3
   },
   "file_extension": ".py",
   "mimetype": "text/x-python",
   "name": "python",
   "nbconvert_exporter": "python",
   "pygments_lexer": "ipython3",
   "version": "3.9.12"
  },
  "orig_nbformat": 4,
  "vscode": {
   "interpreter": {
    "hash": "f9cb815b88f452d6371433a689dad1c4455ab1127db4ab270e9b7c850f9a9b48"
   }
  }
 },
 "nbformat": 4,
 "nbformat_minor": 2
}
