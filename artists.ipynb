{
 "cells": [
  {
   "cell_type": "code",
   "execution_count": 3,
   "metadata": {},
   "outputs": [
    {
     "data": {
      "text/html": [
       "<div>\n",
       "<style scoped>\n",
       "    .dataframe tbody tr th:only-of-type {\n",
       "        vertical-align: middle;\n",
       "    }\n",
       "\n",
       "    .dataframe tbody tr th {\n",
       "        vertical-align: top;\n",
       "    }\n",
       "\n",
       "    .dataframe thead th {\n",
       "        text-align: right;\n",
       "    }\n",
       "</style>\n",
       "<table border=\"1\" class=\"dataframe\">\n",
       "  <thead>\n",
       "    <tr style=\"text-align: right;\">\n",
       "      <th></th>\n",
       "      <th>artist_names</th>\n",
       "      <th>artist_genre</th>\n",
       "    </tr>\n",
       "  </thead>\n",
       "  <tbody>\n",
       "    <tr>\n",
       "      <th>0</th>\n",
       "      <td>Bad Bunny, Tony Dize</td>\n",
       "      <td>latin hip hop</td>\n",
       "    </tr>\n",
       "    <tr>\n",
       "      <th>1</th>\n",
       "      <td>Blessd, Justin Quiles, Lenny Tavárez</td>\n",
       "      <td>reggaeton</td>\n",
       "    </tr>\n",
       "    <tr>\n",
       "      <th>2</th>\n",
       "      <td>Blessd, Justin Quiles, Lenny Tavárez</td>\n",
       "      <td>reggaeton</td>\n",
       "    </tr>\n",
       "  </tbody>\n",
       "</table>\n",
       "</div>"
      ],
      "text/plain": [
       "                           artist_names   artist_genre\n",
       "0                  Bad Bunny, Tony Dize  latin hip hop\n",
       "1  Blessd, Justin Quiles, Lenny Tavárez      reggaeton\n",
       "2  Blessd, Justin Quiles, Lenny Tavárez      reggaeton"
      ]
     },
     "execution_count": 3,
     "metadata": {},
     "output_type": "execute_result"
    }
   ],
   "source": [
    "#import dependencies for csv and pandas df\n",
    "import pandas as pd\n",
    "csv_data = \"artist_genres.csv\"\n",
    "artists_df = pd.read_csv(csv_data)\n",
    "artists_df.head(3)"
   ]
  },
  {
   "cell_type": "code",
   "execution_count": 4,
   "metadata": {},
   "outputs": [],
   "source": [
    "#import all dependencies for Sqlalchemy\n",
    "from sqlalchemy import create_engine\n",
    "import sqlite3\n",
    "\n",
    "# Import modules to declare columns and column data types\n",
    "from sqlalchemy import Column, Integer, String, Float, Boolean\n",
    "\n",
    "\n",
    "\n",
    "# Import and establish Base for which classes will be constructed \n",
    "from sqlalchemy.ext.declarative import declarative_base\n",
    "Base = declarative_base()\n",
    "\n",
    "engine = create_engine('sqlite://', echo=False)\n",
    "\n"
   ]
  },
  {
   "cell_type": "code",
   "execution_count": 5,
   "metadata": {},
   "outputs": [
    {
     "data": {
      "text/plain": [
       "1099773"
      ]
     },
     "execution_count": 5,
     "metadata": {},
     "output_type": "execute_result"
    }
   ],
   "source": [
    "conn = sqlite3.connect('artist_db.sqlite')\n",
    "artists_df.to_sql('artists', conn, if_exists='replace', index=True)\n",
    "# conn.close"
   ]
  },
  {
   "cell_type": "code",
   "execution_count": 6,
   "metadata": {},
   "outputs": [
    {
     "name": "stdout",
     "output_type": "stream",
     "text": [
      "<sqlite3.Connection object at 0x0000027BF5FB2C60>\n"
     ]
    }
   ],
   "source": [
    "artists_conn = sqlite3.connect('artist_db.sqlite')\n",
    "print(artists_conn)\n",
    "\n",
    "artist_df = pd.read_sql_query('SELECT * FROM artists', artists_conn)\n",
    "\n",
    "for artist in artists_df.values:\n",
    "       print(artist)"
   ]
  },
  {
   "cell_type": "code",
   "execution_count": null,
   "metadata": {},
   "outputs": [],
   "source": [
    "class artists(Base):\n",
    "    __tablename__ = \"artist_db\"\n",
    "    artists_id = Column(Integer, primary_key=True)\n",
    "    artist_names = Column(String)\n",
    "    artist_genre = Column(String)"
   ]
  },
  {
   "cell_type": "code",
   "execution_count": null,
   "metadata": {},
   "outputs": [],
   "source": [
    "# Create Database Connection\n",
    "engine = create_engine('sqlite:///artist_db.sqlite')\n",
    "Base.metadata.create_all(engine)"
   ]
  },
  {
   "cell_type": "code",
   "execution_count": null,
   "metadata": {},
   "outputs": [
    {
     "ename": "NameError",
     "evalue": "name 'engine' is not defined",
     "output_type": "error",
     "traceback": [
      "\u001b[1;31m---------------------------------------------------------------------------\u001b[0m",
      "\u001b[1;31mNameError\u001b[0m                                 Traceback (most recent call last)",
      "\u001b[1;32mc:\\Users\\ankit\\OneDrive\\Desktop\\Project 3\\SongAttributesVSPopularity\\artists.ipynb Cell 7\u001b[0m in \u001b[0;36m<cell line: 2>\u001b[1;34m()\u001b[0m\n\u001b[0;32m      <a href='vscode-notebook-cell:/c%3A/Users/ankit/OneDrive/Desktop/Project%203/SongAttributesVSPopularity/artists.ipynb#W6sZmlsZQ%3D%3D?line=0'>1</a>\u001b[0m \u001b[39mfrom\u001b[39;00m \u001b[39msqlalchemy\u001b[39;00m\u001b[39m.\u001b[39;00m\u001b[39morm\u001b[39;00m \u001b[39mimport\u001b[39;00m Session\n\u001b[1;32m----> <a href='vscode-notebook-cell:/c%3A/Users/ankit/OneDrive/Desktop/Project%203/SongAttributesVSPopularity/artists.ipynb#W6sZmlsZQ%3D%3D?line=1'>2</a>\u001b[0m session \u001b[39m=\u001b[39m Session(bind\u001b[39m=\u001b[39mengine)\n",
      "\u001b[1;31mNameError\u001b[0m: name 'engine' is not defined"
     ]
    }
   ],
   "source": [
    "from sqlalchemy.orm import Session\n",
    "session = Session(bind=engine)"
   ]
  },
  {
   "cell_type": "code",
   "execution_count": null,
   "metadata": {},
   "outputs": [
    {
     "ename": "NameError",
     "evalue": "name 'session' is not defined",
     "output_type": "error",
     "traceback": [
      "\u001b[1;31m---------------------------------------------------------------------------\u001b[0m",
      "\u001b[1;31mNameError\u001b[0m                                 Traceback (most recent call last)",
      "\u001b[1;32mc:\\Users\\ankit\\OneDrive\\Desktop\\Project 3\\SongAttributesVSPopularity\\artists.ipynb Cell 8\u001b[0m in \u001b[0;36m<cell line: 2>\u001b[1;34m()\u001b[0m\n\u001b[0;32m      <a href='vscode-notebook-cell:/c%3A/Users/ankit/OneDrive/Desktop/Project%203/SongAttributesVSPopularity/artists.ipynb#X10sZmlsZQ%3D%3D?line=0'>1</a>\u001b[0m \u001b[39m# Print all of the artists in the database\u001b[39;00m\n\u001b[1;32m----> <a href='vscode-notebook-cell:/c%3A/Users/ankit/OneDrive/Desktop/Project%203/SongAttributesVSPopularity/artists.ipynb#X10sZmlsZQ%3D%3D?line=1'>2</a>\u001b[0m artists \u001b[39m=\u001b[39m session\u001b[39m.\u001b[39mquery(artists)\n\u001b[0;32m      <a href='vscode-notebook-cell:/c%3A/Users/ankit/OneDrive/Desktop/Project%203/SongAttributesVSPopularity/artists.ipynb#X10sZmlsZQ%3D%3D?line=2'>3</a>\u001b[0m \u001b[39mfor\u001b[39;00m artist \u001b[39min\u001b[39;00m artists:\n\u001b[0;32m      <a href='vscode-notebook-cell:/c%3A/Users/ankit/OneDrive/Desktop/Project%203/SongAttributesVSPopularity/artists.ipynb#X10sZmlsZQ%3D%3D?line=3'>4</a>\u001b[0m     \u001b[39mprint\u001b[39m(artist_names)\n",
      "\u001b[1;31mNameError\u001b[0m: name 'session' is not defined"
     ]
    }
   ],
   "source": [
    "# Print all of the artists in the database\n",
    "artists = session.query(artists)\n",
    "for artist in artists:\n",
    "    print(artist_names)"
   ]
  }
 ],
 "metadata": {
  "kernelspec": {
   "display_name": "base",
   "language": "python",
   "name": "python3"
  },
  "language_info": {
   "codemirror_mode": {
    "name": "ipython",
    "version": 3
   },
   "file_extension": ".py",
   "mimetype": "text/x-python",
   "name": "python",
   "nbconvert_exporter": "python",
   "pygments_lexer": "ipython3",
   "version": "3.9.12"
  },
  "orig_nbformat": 4,
  "vscode": {
   "interpreter": {
    "hash": "2e3f33852672ac4a073d79af74b37fc9961212be18150672fcb2b3607e50fc72"
   }
  }
 },
 "nbformat": 4,
 "nbformat_minor": 2
}
